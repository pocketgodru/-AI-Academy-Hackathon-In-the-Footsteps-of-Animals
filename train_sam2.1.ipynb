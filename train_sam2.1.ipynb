{
  "metadata": {
    "kernelspec": {
      "language": "python",
      "display_name": "Python 3",
      "name": "python3"
    },
    "language_info": {
      "name": "python",
      "version": "3.10.12",
      "mimetype": "text/x-python",
      "codemirror_mode": {
        "name": "ipython",
        "version": 3
      },
      "pygments_lexer": "ipython3",
      "nbconvert_exporter": "python",
      "file_extension": ".py"
    },
    "kaggle": {
      "accelerator": "none",
      "dataSources": [
        {
          "sourceId": 10400413,
          "sourceType": "datasetVersion",
          "datasetId": 6444208
        },
        {
          "sourceId": 10410423,
          "sourceType": "datasetVersion",
          "datasetId": 6451539
        },
        {
          "sourceId": 10678903,
          "sourceType": "datasetVersion",
          "datasetId": 6615196
        },
        {
          "sourceId": 10693333,
          "sourceType": "datasetVersion",
          "datasetId": 6504740
        },
        {
          "sourceId": 236786,
          "sourceType": "modelInstanceVersion",
          "modelInstanceId": 202238,
          "modelId": 223991
        },
        {
          "sourceId": 250652,
          "sourceType": "modelInstanceVersion",
          "modelInstanceId": 214250,
          "modelId": 235923
        }
      ],
      "dockerImageVersionId": 30840,
      "isInternetEnabled": true,
      "language": "python",
      "sourceType": "notebook",
      "isGpuEnabled": false
    },
    "colab": {
      "provenance": []
    }
  },
  "nbformat_minor": 0,
  "nbformat": 4,
  "cells": [
    {
      "cell_type": "markdown",
      "source": [
        "# Необходимо поменть путь к датасету для или вручную переименовать его в \"data\""
      ],
      "metadata": {
        "id": "YLjTGWMc0v7e"
      }
    },
    {
      "cell_type": "code",
      "source": [
        "!pip install roboflow\n",
        "\n",
        "from roboflow import Roboflow\n",
        "import os\n",
        "\n",
        "rf = Roboflow(api_key=\"5vhjM20O5S06HB6keovp\")\n",
        "project = rf.workspace(\"sassuke-uchicha-6mbbd\").project(\"animal-99law\")\n",
        "version = project.version(3)\n",
        "dataset = version.download(\"sam2\")\n",
        "\n",
        "# rename dataset.location to \"data\"\n",
        "os.rename(dataset.location, \"/kaggle/working/data\")"
      ],
      "metadata": {
        "trusted": true,
        "execution": {
          "iopub.status.busy": "2025-02-08T07:21:25.406785Z",
          "iopub.execute_input": "2025-02-08T07:21:25.407064Z",
          "iopub.status.idle": "2025-02-08T07:24:14.573979Z",
          "shell.execute_reply.started": "2025-02-08T07:21:25.407042Z",
          "shell.execute_reply": "2025-02-08T07:24:14.572914Z"
        },
        "id": "fKZ3bcRd0t0_"
      },
      "outputs": [],
      "execution_count": null
    },
    {
      "cell_type": "code",
      "source": [
        "!git clone https://github.com/facebookresearch/sam2.git"
      ],
      "metadata": {
        "trusted": true,
        "execution": {
          "iopub.status.busy": "2025-02-08T07:31:05.556875Z",
          "iopub.execute_input": "2025-02-08T07:31:05.557209Z",
          "iopub.status.idle": "2025-02-08T07:31:09.851381Z",
          "shell.execute_reply.started": "2025-02-08T07:31:05.557179Z",
          "shell.execute_reply": "2025-02-08T07:31:09.850327Z"
        },
        "id": "rGix39Hr0t1D"
      },
      "outputs": [],
      "execution_count": null
    },
    {
      "cell_type": "code",
      "source": [
        "%cd ./sam2/"
      ],
      "metadata": {
        "trusted": true,
        "execution": {
          "iopub.status.busy": "2025-02-08T07:31:12.448888Z",
          "iopub.execute_input": "2025-02-08T07:31:12.449216Z",
          "iopub.status.idle": "2025-02-08T07:31:12.455043Z",
          "shell.execute_reply.started": "2025-02-08T07:31:12.449186Z",
          "shell.execute_reply": "2025-02-08T07:31:12.454213Z"
        },
        "id": "EbAalTsU0t1E"
      },
      "outputs": [],
      "execution_count": null
    },
    {
      "cell_type": "code",
      "source": [
        "!pip install -e .[dev] -q"
      ],
      "metadata": {
        "trusted": true,
        "execution": {
          "iopub.status.busy": "2025-02-08T07:14:44.790487Z",
          "iopub.execute_input": "2025-02-08T07:14:44.790809Z",
          "iopub.status.idle": "2025-02-08T07:21:03.133813Z",
          "shell.execute_reply.started": "2025-02-08T07:14:44.790782Z",
          "shell.execute_reply": "2025-02-08T07:21:03.132556Z"
        },
        "id": "TUZcU43w0t1F"
      },
      "outputs": [],
      "execution_count": null
    },
    {
      "cell_type": "code",
      "source": [
        "!cd ./checkpoints && ./download_ckpts.sh"
      ],
      "metadata": {
        "trusted": true,
        "execution": {
          "iopub.status.busy": "2025-02-08T07:31:16.834770Z",
          "iopub.execute_input": "2025-02-08T07:31:16.835084Z",
          "iopub.status.idle": "2025-02-08T07:31:23.620034Z",
          "shell.execute_reply.started": "2025-02-08T07:31:16.835056Z",
          "shell.execute_reply": "2025-02-08T07:31:23.619210Z"
        },
        "id": "KJf0Re080t1G"
      },
      "outputs": [],
      "execution_count": null
    },
    {
      "cell_type": "markdown",
      "source": [
        "## Необходимо поменять путь к cfg фалу и к папке sam2(к репозиторию)"
      ],
      "metadata": {
        "id": "ojyIeUNr1JR9"
      }
    },
    {
      "cell_type": "code",
      "source": [
        "import shutil\n",
        "\n",
        "shutil.copy2('/kaggle/input/yuukijke/train.yaml', '/kaggle/working/sam2/sam2/configs/train.yaml')"
      ],
      "metadata": {
        "trusted": true,
        "execution": {
          "iopub.status.busy": "2025-02-08T07:33:35.684305Z",
          "iopub.execute_input": "2025-02-08T07:33:35.684666Z",
          "iopub.status.idle": "2025-02-08T07:33:35.697549Z",
          "shell.execute_reply.started": "2025-02-08T07:33:35.684633Z",
          "shell.execute_reply": "2025-02-08T07:33:35.696640Z"
        },
        "id": "Eq4WDTmX0t1G"
      },
      "outputs": [],
      "execution_count": null
    },
    {
      "cell_type": "markdown",
      "source": [
        "## Тут так же надо поменять путь к датасету\n",
        "\n",
        "Данный код нужен для проверки названия изображений\n"
      ],
      "metadata": {
        "id": "4aPC1fJv1ro1"
      }
    },
    {
      "cell_type": "code",
      "source": [
        "import os\n",
        "import re\n",
        "\n",
        "FOLDER = \"/kaggle/working/data/train\"\n",
        "\n",
        "for filename in os.listdir(FOLDER):\n",
        "    # Replace all except last dot with underscore\n",
        "    new_filename = filename.replace(\".\", \"_\", filename.count(\".\") - 1)\n",
        "    if not re.search(r\"_\\d+\\.\\w+$\", new_filename):\n",
        "        # Add an int to the end of base name\n",
        "        new_filename = new_filename.replace(\".\", \"_1.\")\n",
        "    os.rename(os.path.join(FOLDER, filename), os.path.join(FOLDER, new_filename))"
      ],
      "metadata": {
        "trusted": true,
        "execution": {
          "iopub.status.busy": "2025-02-08T07:31:27.702005Z",
          "iopub.execute_input": "2025-02-08T07:31:27.702342Z",
          "iopub.status.idle": "2025-02-08T07:31:28.043023Z",
          "shell.execute_reply.started": "2025-02-08T07:31:27.702311Z",
          "shell.execute_reply": "2025-02-08T07:31:28.042355Z"
        },
        "id": "46q9XLT30t1H"
      },
      "outputs": [],
      "execution_count": null
    },
    {
      "cell_type": "code",
      "source": [
        "!python training/train.py -c 'configs/train.yaml' --use-cluster 0 --num-gpus 2"
      ],
      "metadata": {
        "trusted": true,
        "execution": {
          "iopub.status.busy": "2025-02-08T07:33:37.334842Z",
          "iopub.execute_input": "2025-02-08T07:33:37.335152Z",
          "iopub.status.idle": "2025-02-08T19:07:17.969630Z",
          "shell.execute_reply.started": "2025-02-08T07:33:37.335125Z",
          "shell.execute_reply": "2025-02-08T19:07:17.968604Z"
        },
        "id": "FiEgSG-G0t1I"
      },
      "outputs": [],
      "execution_count": null
    },
    {
      "cell_type": "markdown",
      "source": [
        "# Код ниже не обезатлен(вспомогательный, так как в кагле лагало отображения папок)\n",
        "\n",
        "## Необходимо переименовать chekpoint.pt в sam2.1_b.pt"
      ],
      "metadata": {
        "id": "k8reNc482C3N"
      }
    },
    {
      "cell_type": "code",
      "source": [
        "import shutil\n",
        "\n",
        "shutil.copy2('/kaggle/working/sam2/sam2_logs/configs/train.yaml/checkpoints/checkpoint.pt', '/kaggle/working/sam2.1_b.pt')"
      ],
      "metadata": {
        "trusted": true,
        "execution": {
          "iopub.status.busy": "2025-02-08T19:09:27.429624Z",
          "iopub.execute_input": "2025-02-08T19:09:27.429980Z",
          "iopub.status.idle": "2025-02-08T19:09:28.168569Z",
          "shell.execute_reply.started": "2025-02-08T19:09:27.429941Z",
          "shell.execute_reply": "2025-02-08T19:09:28.167707Z"
        },
        "id": "ubKyHN2o0t1I"
      },
      "outputs": [],
      "execution_count": null
    },
    {
      "cell_type": "code",
      "source": [
        "import shutil\n",
        "shutil.rmtree(\"/kaggle/working/sam2\")"
      ],
      "metadata": {
        "trusted": true,
        "execution": {
          "iopub.status.busy": "2025-02-08T07:31:00.210523Z",
          "iopub.execute_input": "2025-02-08T07:31:00.210910Z",
          "iopub.status.idle": "2025-02-08T07:31:00.682606Z",
          "shell.execute_reply.started": "2025-02-08T07:31:00.210879Z",
          "shell.execute_reply": "2025-02-08T07:31:00.681700Z"
        },
        "id": "Wvf-brTL0t1J"
      },
      "outputs": [],
      "execution_count": null
    },
    {
      "cell_type": "code",
      "source": [
        "%tensorboard --/kaggle/working/sam2/sam2_logs/configs/train.yaml/tensorboard/events.out.tfevents.1738926930.dfdab79558c5.302.075f01c7b-00e8-4d0c-adbd-b25c00c7f4e3"
      ],
      "metadata": {
        "trusted": true,
        "execution": {
          "iopub.status.busy": "2025-02-07T19:53:11.677856Z",
          "iopub.execute_input": "2025-02-07T19:53:11.678230Z",
          "iopub.status.idle": "2025-02-07T19:53:11.683764Z",
          "shell.execute_reply.started": "2025-02-07T19:53:11.678194Z",
          "shell.execute_reply": "2025-02-07T19:53:11.682482Z"
        },
        "id": "PycF_5dh0t1J"
      },
      "outputs": [],
      "execution_count": null
    },
    {
      "cell_type": "code",
      "source": [
        "import shutil\n",
        "\n",
        "shutil.copy2('/kaggle/input/sam-pisyat/pytorch/default/1/sam2.pt', '/kaggle/working/sam2/checkpoints')"
      ],
      "metadata": {
        "trusted": true,
        "id": "eDv225xN0t1K"
      },
      "outputs": [],
      "execution_count": null
    }
  ]
}